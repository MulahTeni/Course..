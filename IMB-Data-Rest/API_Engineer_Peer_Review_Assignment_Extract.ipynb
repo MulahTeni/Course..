{
 "cells": [
  {
   "cell_type": "markdown",
   "metadata": {},
   "source": [
    "<p style=\"text-align:center\">\n",
    "    <a href=\"https://skills.network/?utm_medium=Exinfluencer&utm_source=Exinfluencer&utm_content=000026UJ&utm_term=10006555&utm_id=NA-SkillsNetwork-Channel-SkillsNetworkCoursesIBMDeveloperSkillsNetworkPY0221ENSkillsNetwork899-2023-01-01\">\n",
    "    <img src=\"https://cf-courses-data.s3.us.cloud-object-storage.appdomain.cloud/assets/logos/SN_web_lightmode.png\" width=\"200\" alt=\"Skills Network Logo\"  />\n",
    "    </a>\n",
    "</p>\n"
   ]
  },
  {
   "cell_type": "markdown",
   "metadata": {},
   "source": [
    "# Peer Review Assignment - Data Engineer - Extract API Data\n"
   ]
  },
  {
   "cell_type": "markdown",
   "metadata": {},
   "source": [
    "Estimated time needed: **20** minutes\n"
   ]
  },
  {
   "cell_type": "markdown",
   "metadata": {},
   "source": [
    "## Objectives\n",
    "\n",
    "In this part you will:\n",
    "\n",
    "-   Collect exchange rate data using an API\n",
    "-   Store the data as a CSV\n"
   ]
  },
  {
   "cell_type": "markdown",
   "metadata": {},
   "source": [
    "For this lab, we are going to be using Python and several Python libraries. Some of these libraries might be installed in your lab environment or in SN Labs. Others may need to be installed by you. The cells below will install these libraries when executed.\n"
   ]
  },
  {
   "cell_type": "code",
   "execution_count": 1,
   "metadata": {
    "tags": []
   },
   "outputs": [],
   "source": [
    "#!mamba install pandas==1.3.3 -y\n",
    "#!mamba install requests==2.26.0 -y"
   ]
  },
  {
   "cell_type": "markdown",
   "metadata": {},
   "source": [
    "## Imports\n",
    "\n",
    "Import any additional libraries you may need here.\n"
   ]
  },
  {
   "cell_type": "code",
   "execution_count": 2,
   "metadata": {
    "tags": []
   },
   "outputs": [],
   "source": [
    "import requests\n",
    "import pandas as pd"
   ]
  },
  {
   "cell_type": "markdown",
   "metadata": {},
   "source": [
    "## Extract Data Using an API\n"
   ]
  },
  {
   "cell_type": "markdown",
   "metadata": {},
   "source": [
    "Using ExchangeRate-API we will extract currency exchange rate data. Use the below steps to get the access key and to get the data. \n",
    "1. Open the url : https://exchangeratesapi.io/ and click on **Get Free API Key**. \n",
    "2. Subscribe for Free plan and Sign-in with the Google Account. \n",
    "3. Once the account is created you will be redirected to https://apilayer.com website.\n",
    "2. Now, click on the **user icon** and click **Account** as shown below:\n",
    "\n",
    "<img src=\"https://cf-courses-data.s3.us.cloud-object-storage.appdomain.cloud/IBMDeveloperSkillsNetwork-PY0221EN-SkillsNetwork/labs/module%206/Final%20Assignment/Images/account.png\">\n",
    "\n",
    "3. Scroll down and you will get the API Key section. Copy the API key and use in the url in Question 1.\n"
   ]
  },
  {
   "cell_type": "markdown",
   "metadata": {},
   "source": [
    "### Call the API\n",
    "\n",
    " <b> Question 1</b> Using the `requests` library call the endpoint given above and save the text, remember the first few characters of the output: \n"
   ]
  },
  {
   "cell_type": "code",
   "execution_count": 25,
   "metadata": {
    "tags": []
   },
   "outputs": [
    {
     "data": {
      "text/plain": [
       "'{\"success\":true,\"timestamp\":1689252483,\"base\":\"EUR\",\"date\":\"2023-07-13\",\"rates\":{\"AED\":4.1044,\"AFN\":96.305916,\"ALL\":103.590604,\"AMD\":432.559835,\"ANG\":2.013542,\"AOA\":923.570792,\"ARS\":294.863742,\"AUD\":1.628966,\"AWG\":2.011408,\"AZN\":1.903317,\"BAM\":1.95592,\"BBD\":2.255739,\"BDT\":121.517465,\"BGN\":1.955232,\"BHD\":0.421195,\"BIF\":3160.394147,\"BMD\":1.117449,\"BND\":1.481091,\"BOB\":7.719543,\"BRL\":5.36447,\"BSD\":1.117169,\"BTC\":3.6518693e-5,\"BTN\":92.510711,\"BWP\":14.69064,\"BYN\":2.819973,\"BYR\":21901.993469,\"BZD\":2.251969,\"CAD\":1.469825,\"CDF\":2754.510724,\"CHF\":0.96419,\"CLF\":0.032822,\"CLP\":905.63639,\"CNY\":8.009429,\"COP\":4623.499647,\"CRC\":609.042865,\"CUC\":1.117449,\"CUP\":29.612389,\"CVE\":110.275788,\"CZK\":23.762566,\"DJF\":198.91866,\"DKK\":7.451863,\"DOP\":62.474397,\"DZD\":150.594538,\"EGP\":34.527825,\"ERN\":16.76173,\"ETB\":61.073898,\"EUR\":1,\"FJD\":2.442575,\"FKP\":0.860176,\"GBP\":0.854943,\"GEL\":2.883259,\"GGP\":0.860176,\"GHS\":12.708894,\"GIP\":0.860176,\"GMD\":66.596663,\"GNF\":9607.590207,\"GTQ\":8.761617,\"GYD\":233.73645,\"HKD\":8.742304,\"HNL\":27.496689,\"HRK\":7.536469,\"HTG\":153.619437,\"HUF\":374.825631,\"IDR\":16730.441134,\"ILS\":4.04151,\"IMP\":0.860176,\"INR\":91.738902,\"IQD\":1463.58991,\"IRR\":47226.17157,\"ISK\":146.89956,\"JEP\":0.860176,\"JMD\":172.881394,\"JOD\":0.791934,\"JPY\":154.986759,\"KES\":158.007637,\"KGS\":98.190148,\"KHR\":4609.30378,\"KMF\":497.236731,\"KPW\":1005.709511,\"KRW\":1417.940668,\"KWD\":0.342297,\"KYD\":0.931041,\"KZT\":497.000531,\"LAK\":21394.505752,\"LBP\":16769.580248,\"LKR\":355.291826,\"LRD\":205.277301,\"LSL\":20.504946,\"LTL\":3.299535,\"LVL\":0.675933,\"LYD\":5.33028,\"MAD\":10.844263,\"MDL\":20.218166,\"MGA\":5061.35622,\"MKD\":61.623786,\"MMK\":2346.102134,\"MNT\":3848.491613,\"MOP\":9.003234,\"MRO\":398.928975,\"MUR\":50.715031,\"MVR\":17.206765,\"MWK\":1177.682886,\"MXN\":18.894794,\"MYR\":5.127952,\"MZN\":70.678895,\"NAD\":20.505301,\"NGN\":893.388551,\"NIO\":40.86251,\"NOK\":11.240203,\"NPR\":147.993577,\"NZD\":1.75668,\"OMR\":0.430198,\"PAB\":1.117284,\"PEN\":3.998481,\"PGK\":3.993263,\"PHP\":60.799251,\"PKR\":304.116616,\"PLN\":4.432435,\"PYG\":8121.571599,\"QAR\":4.068071,\"RON\":4.941137,\"RSD\":117.242603,\"RUB\":100.938581,\"RWF\":1306.756888,\"SAR\":4.192342,\"SBD\":9.375229,\"SCR\":14.645518,\"SDG\":671.02829,\"SEK\":11.507173,\"SGD\":1.481402,\"SHP\":1.359656,\"SLE\":22.278225,\"SLL\":22069.610307,\"SOS\":636.38776,\"SRD\":42.036483,\"STD\":23128.93086,\"SVC\":9.775601,\"SYP\":2807.622716,\"SZL\":20.18924,\"THB\":38.643638,\"TJS\":12.222351,\"TMT\":3.91107,\"TND\":3.413765,\"TOP\":2.628572,\"TRY\":29.2281,\"TTD\":7.582534,\"TWD\":34.655211,\"TZS\":2734.120788,\"UAH\":41.255919,\"UGX\":4100.251884,\"USD\":1.117449,\"UYU\":42.612236,\"UZS\":12939.679105,\"VEF\":3147717.989963,\"VES\":31.643334,\"VND\":26455.596703,\"VUV\":132.723465,\"WST\":3.033692,\"XAF\":655.997299,\"XAG\":0.045946,\"XAU\":0.000571,\"XCD\":3.01996,\"XDR\":0.832351,\"XOF\":655.997299,\"XPF\":120.963575,\"YER\":279.689684,\"ZAR\":20.123731,\"ZMK\":10058.375952,\"ZMW\":20.584449,\"ZWL\":359.818008}}'"
      ]
     },
     "execution_count": 25,
     "metadata": {},
     "output_type": "execute_result"
    }
   ],
   "source": [
    "# Write your code here\n",
    "url = \"http://api.exchangeratesapi.io/v1/latest?base=EUR&access_key=b834c674cca6465067aa7fcdb6ec2187\"  #Make sure to change ******* to your API key.\n",
    "rp = requests.get(url).text"
   ]
  },
  {
   "cell_type": "markdown",
   "metadata": {},
   "source": [
    "### Save as DataFrame\n",
    "\n",
    " <b> Question 2</b>  Using the data gathered turn it into a `pandas` dataframe. The dataframe should have the Currency as the index and `Rate` as their columns. Make sure to drop unnecessary columns.\n"
   ]
  },
  {
   "cell_type": "code",
   "execution_count": 30,
   "metadata": {
    "tags": []
   },
   "outputs": [
    {
     "data": {
      "text/html": [
       "<div>\n",
       "<style scoped>\n",
       "    .dataframe tbody tr th:only-of-type {\n",
       "        vertical-align: middle;\n",
       "    }\n",
       "\n",
       "    .dataframe tbody tr th {\n",
       "        vertical-align: top;\n",
       "    }\n",
       "\n",
       "    .dataframe thead th {\n",
       "        text-align: right;\n",
       "    }\n",
       "</style>\n",
       "<table border=\"1\" class=\"dataframe\">\n",
       "  <thead>\n",
       "    <tr style=\"text-align: right;\">\n",
       "      <th></th>\n",
       "      <th>Rates</th>\n",
       "    </tr>\n",
       "    <tr>\n",
       "      <th></th>\n",
       "      <th></th>\n",
       "    </tr>\n",
       "  </thead>\n",
       "  <tbody>\n",
       "    <tr>\n",
       "      <th>AED</th>\n",
       "      <td>4.104400</td>\n",
       "    </tr>\n",
       "    <tr>\n",
       "      <th>AFN</th>\n",
       "      <td>96.305916</td>\n",
       "    </tr>\n",
       "    <tr>\n",
       "      <th>ALL</th>\n",
       "      <td>103.590604</td>\n",
       "    </tr>\n",
       "    <tr>\n",
       "      <th>AMD</th>\n",
       "      <td>432.559835</td>\n",
       "    </tr>\n",
       "    <tr>\n",
       "      <th>ANG</th>\n",
       "      <td>2.013542</td>\n",
       "    </tr>\n",
       "    <tr>\n",
       "      <th>...</th>\n",
       "      <td>...</td>\n",
       "    </tr>\n",
       "    <tr>\n",
       "      <th>YER</th>\n",
       "      <td>279.689684</td>\n",
       "    </tr>\n",
       "    <tr>\n",
       "      <th>ZAR</th>\n",
       "      <td>20.123731</td>\n",
       "    </tr>\n",
       "    <tr>\n",
       "      <th>ZMK</th>\n",
       "      <td>10058.375952</td>\n",
       "    </tr>\n",
       "    <tr>\n",
       "      <th>ZMW</th>\n",
       "      <td>20.584449</td>\n",
       "    </tr>\n",
       "    <tr>\n",
       "      <th>ZWL</th>\n",
       "      <td>359.818008</td>\n",
       "    </tr>\n",
       "  </tbody>\n",
       "</table>\n",
       "<p>170 rows × 1 columns</p>\n",
       "</div>"
      ],
      "text/plain": [
       "            Rates\n",
       "                 \n",
       "AED      4.104400\n",
       "AFN     96.305916\n",
       "ALL    103.590604\n",
       "AMD    432.559835\n",
       "ANG      2.013542\n",
       "..            ...\n",
       "YER    279.689684\n",
       "ZAR     20.123731\n",
       "ZMK  10058.375952\n",
       "ZMW     20.584449\n",
       "ZWL    359.818008\n",
       "\n",
       "[170 rows x 1 columns]"
      ]
     },
     "execution_count": 30,
     "metadata": {},
     "output_type": "execute_result"
    }
   ],
   "source": [
    "# Turn the data into a dataframe\n",
    "rates = data['rates']\n",
    "df = pd.DataFrame.from_dict(rates, orient=\"index\", columns=[\"Rates\"])\n",
    "df.index.name = \"\"\n",
    "df"
   ]
  },
  {
   "cell_type": "code",
   "execution_count": null,
   "metadata": {},
   "outputs": [],
   "source": [
    "# Drop unnescessary columns\n"
   ]
  },
  {
   "cell_type": "markdown",
   "metadata": {},
   "source": [
    "### Load the Data\n",
    "\n",
    "Using the dataframe save it as a CSV names `exchange_rates_1.csv`.\n"
   ]
  },
  {
   "cell_type": "code",
   "execution_count": null,
   "metadata": {},
   "outputs": [],
   "source": [
    "# Save the Dataframe\n"
   ]
  },
  {
   "cell_type": "markdown",
   "metadata": {},
   "source": [
    "Your CSV should be in this format with more currencies\n",
    "\n",
    "| | Rates |\n",
    "| ------- | ------- |\n",
    "|  AED| 4.398618    |\n",
    "|  AFN| 92.917693   |  \n",
    "|  ALL| 123.099093  |\n",
    "|  AMD| 621.935674  |\n",
    "|  ANG| 2.149648    | \n"
   ]
  },
  {
   "cell_type": "markdown",
   "metadata": {},
   "source": [
    "## Authors\n"
   ]
  },
  {
   "cell_type": "markdown",
   "metadata": {},
   "source": [
    "Ramesh Sannareddy, Joseph Santarcangelo and Azim Hirjani\n"
   ]
  },
  {
   "cell_type": "markdown",
   "metadata": {},
   "source": [
    "### Other Contributors\n"
   ]
  },
  {
   "cell_type": "markdown",
   "metadata": {},
   "source": [
    "Rav Ahuja\n"
   ]
  },
  {
   "cell_type": "markdown",
   "metadata": {},
   "source": [
    "## Change Log\n"
   ]
  },
  {
   "cell_type": "markdown",
   "metadata": {},
   "source": [
    "| Date (YYYY-MM-DD) | Version | Changed By        | Change Description                 |\n",
    "| ----------------- | ------- | ----------------- | ---------------------------------- |\n",
    "| 2022-05-06        | 0.3     | Malika            | Updated instructions to get the API and the url|\n",
    "| 2021-04-15        | 0.2     | Malika            | Updated the lab from USD to EUR    |\n",
    "| 2020-11-25        | 0.1     | Ramesh Sannareddy | Created initial version of the lab |\n"
   ]
  },
  {
   "cell_type": "markdown",
   "metadata": {},
   "source": [
    " Copyright © 2020 IBM Corporation. This notebook and its source code are released under the terms of the [MIT License](https://cognitiveclass.ai/mit-license?utm_medium=Exinfluencer&utm_source=Exinfluencer&utm_content=000026UJ&utm_term=10006555&utm_id=NA-SkillsNetwork-Channel-SkillsNetworkCoursesIBMDeveloperSkillsNetworkPY0221ENSkillsNetwork899-2023-01-01&cm_mmc=Email_Newsletter-_-Developer_Ed%2BTech-_-WW_WW-_-SkillsNetwork-Courses-IBM-DA0321EN-SkillsNetwork-21426264&cm_mmca1=000026UJ&cm_mmca2=10006555&cm_mmca3=M12345678&cvosrc=email.Newsletter.M12345678&cvo_campaign=000026UJ).\n"
   ]
  }
 ],
 "metadata": {
  "kernelspec": {
   "display_name": "Python",
   "language": "python",
   "name": "conda-env-python-py"
  },
  "language_info": {
   "codemirror_mode": {
    "name": "ipython",
    "version": 3
   },
   "file_extension": ".py",
   "mimetype": "text/x-python",
   "name": "python",
   "nbconvert_exporter": "python",
   "pygments_lexer": "ipython3",
   "version": "3.7.12"
  }
 },
 "nbformat": 4,
 "nbformat_minor": 4
}
